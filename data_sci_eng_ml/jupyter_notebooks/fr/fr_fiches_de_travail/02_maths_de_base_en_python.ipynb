{
 "cells": [
  {
   "cell_type": "markdown",
   "metadata": {},
   "source": [
    "## Description du notebook\n",
    "\n",
    "Dans ce notebook, on va travailler l'algèbre linéaire et les fonctions en Python. Pour commencer, écrivez une fonction `add` qui prend en argument deux nombres variables, `x` et `y`, et retourne le résultat de leur addition. Puis appelez cette fonction, et vérifiez que son résultat est bon avec un petit exemple de votre choix. (NB: par la suite, prenez l'habitude de tester que vos fonctions font bien ce que vous attendez d'elles !)"
   ]
  },
  {
   "cell_type": "code",
   "execution_count": null,
   "metadata": {},
   "outputs": [],
   "source": []
  },
  {
   "cell_type": "markdown",
   "metadata": {},
   "source": [
    "Maintenant, écrivez une fonction `pack3` qui prend en argument trois nombres et les insère dans un vecteur (sous forme d'un array de longueur 3)"
   ]
  },
  {
   "cell_type": "code",
   "execution_count": null,
   "metadata": {},
   "outputs": [],
   "source": []
  },
  {
   "cell_type": "markdown",
   "metadata": {},
   "source": [
    "Ecrivez une fonction `sum3` qui prend en input un array de longueur 3 et renvoie la somme de ses coordonnées "
   ]
  },
  {
   "cell_type": "code",
   "execution_count": null,
   "metadata": {},
   "outputs": [],
   "source": []
  },
  {
   "cell_type": "markdown",
   "metadata": {},
   "source": [
    "Ecrivez une fonction `add3` qui fait une addition vectorielle de deux vecteurs 3d. Elle prend en input deux arrays de longueur 3, et renvoie un array de longueur 3 dont chaque coordonnée est la somme des coordonnées respectives des deux arrays d'input. (Notez que vous pouvez, ou non, réemployer une des fonctions définies plus tôt.)"
   ]
  },
  {
   "cell_type": "code",
   "execution_count": null,
   "metadata": {},
   "outputs": [],
   "source": []
  },
  {
   "cell_type": "markdown",
   "metadata": {},
   "source": [
    "Ecrivez une fonction `scale3` qui prend en input un nombre (un scalaire) et un array de longueur 3 (un vecteur 3d), et renvoie un array de longueur 3 dont chaque coordonnée est la multiplication de coordonnée de l'array par le scalaire."
   ]
  },
  {
   "cell_type": "code",
   "execution_count": null,
   "metadata": {},
   "outputs": [],
   "source": []
  },
  {
   "cell_type": "markdown",
   "metadata": {},
   "source": [
    "Ecrivez une fonction `sub3` qui prend en input deux arrays de longueur 3 et renvoie la soustraction du premier par le deuxième. Essayez de l'écrire en appelant les 2 fonctions précédentes (même si c'est simple de faire sans)."
   ]
  },
  {
   "cell_type": "code",
   "execution_count": null,
   "metadata": {},
   "outputs": [],
   "source": []
  },
  {
   "cell_type": "markdown",
   "metadata": {},
   "source": [
    "Ecrivez une fonction `schur3` qui prend en input deux arrays de longueur 3, et renvoie un array de longueur 3 dont chaque coordonnée est le produit, cette fois-ci, des coordonnées respectives des deux arrays d'input. "
   ]
  },
  {
   "cell_type": "code",
   "execution_count": null,
   "metadata": {},
   "outputs": [],
   "source": []
  },
  {
   "cell_type": "markdown",
   "metadata": {},
   "source": [
    "Ecrivez une fonction `dot3` qui prend en input deux arrays de longueur 3, et renvoie un nombre qui est le résultat du produit scalaire des deux arrays d'input. Vous êtes encouragés à réutiliser (appeler) 2 des fonctions codées précédemment."
   ]
  },
  {
   "cell_type": "code",
   "execution_count": null,
   "metadata": {},
   "outputs": [],
   "source": []
  },
  {
   "cell_type": "markdown",
   "metadata": {},
   "source": [
    "Ecrivez une fonction `quadnorm3` qui prend en input un array de longueur 3 et renvoie sa norme quadratique (sa norme au carré). Vous êtes encouragés à réutiliser (appeler) une fonction codée précédemment."
   ]
  },
  {
   "cell_type": "code",
   "execution_count": null,
   "metadata": {},
   "outputs": [],
   "source": []
  },
  {
   "cell_type": "markdown",
   "metadata": {},
   "source": [
    "Ecrivez une fonction `norm3` qui prend en input un array de longueur 3 et renvoie sa norme. Vous êtes encouragés à réutiliser (appeler) une fonction codée précédemment."
   ]
  },
  {
   "cell_type": "code",
   "execution_count": null,
   "metadata": {},
   "outputs": [],
   "source": []
  },
  {
   "cell_type": "markdown",
   "metadata": {},
   "source": [
    "Ecrivez une fonction `cos3` qui prend en input deux arrays de longueur 3 et renvoie le cosinus de l'angle formé par ces 2 vecteurs. Vous êtes encouragés à réutiliser (appeler) 2 fonctions codées précédemment."
   ]
  },
  {
   "cell_type": "code",
   "execution_count": null,
   "metadata": {},
   "outputs": [],
   "source": []
  },
  {
   "cell_type": "markdown",
   "metadata": {},
   "source": [
    "Ecrivez une fonction `avg3` qui prend en input deux arrays de longueur 3 et renvoie le vecteur qui est la moyenne de ces 2 vecteurs. Vous êtes encouragés à réutiliser (appeler) 2 fonctions codées précédemment."
   ]
  },
  {
   "cell_type": "code",
   "execution_count": null,
   "metadata": {},
   "outputs": [],
   "source": []
  },
  {
   "cell_type": "markdown",
   "metadata": {},
   "source": [
    "SECTION BONUS:\n",
    "- faire les versions \"array de taille n\" de toutes les fonctions précédentes, utilisant des 'if' (par exemple pour vérifier que les tailles des inputs sont compatibles) et des 'for' (pour répéter n fois une opération) ce faisant\n",
    "- pour les fonctions précédentes adaptées (add3, schur3, avg3), coder une version qui calcule le bon résultat, mais avec un nombre arbitraire d'arguments (pas juste 2 inputs)\n",
    "- créez une classe (au sens de la programmation orientée objet) nommée \"Vector\" reprenant les fonctions précédentes et implémentant un objet qui représente un vecteur en 3 dimensions (vous pouvez d'ailleurs utiliser les \"magic methods\" un aspect sympathique des classes en Python)\n",
    "- combiner les 3 boni précédents en 1."
   ]
  },
  {
   "cell_type": "code",
   "execution_count": null,
   "metadata": {},
   "outputs": [],
   "source": []
  }
 ],
 "metadata": {
  "kernelspec": {
   "display_name": "Python 3 (ipykernel)",
   "language": "python",
   "name": "python3"
  },
  "language_info": {
   "codemirror_mode": {
    "name": "ipython",
    "version": 3
   },
   "file_extension": ".py",
   "mimetype": "text/x-python",
   "name": "python",
   "nbconvert_exporter": "python",
   "pygments_lexer": "ipython3",
   "version": "3.10.12"
  }
 },
 "nbformat": 4,
 "nbformat_minor": 4
}
