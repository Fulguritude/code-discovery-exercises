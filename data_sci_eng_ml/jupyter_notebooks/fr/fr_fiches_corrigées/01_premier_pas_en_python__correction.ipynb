{
 "cells": [
  {
   "cell_type": "markdown",
   "metadata": {},
   "source": [
    "## Bases du Python"
   ]
  },
  {
   "cell_type": "markdown",
   "metadata": {},
   "source": [
    "## a) Types"
   ]
  },
  {
   "cell_type": "markdown",
   "metadata": {},
   "source": [
    "### Creez une variable 'string' (chaîne de caractères) contenant \"toto\" et une variable 'number' contenant le nombre 10"
   ]
  },
  {
   "cell_type": "code",
   "execution_count": 1,
   "metadata": {},
   "outputs": [],
   "source": [
    "string = \"toto\"\n",
    "number = 10\n",
    "number2 = float(number)\n",
    "\n",
    "# type annotations / type hints\n",
    "string  : str   = \"toto\"\n",
    "number  : int   = 10\n",
    "number2 : float = float(number)"
   ]
  },
  {
   "cell_type": "markdown",
   "metadata": {},
   "source": [
    "### Convertissez 'number' en float"
   ]
  },
  {
   "cell_type": "code",
   "execution_count": null,
   "metadata": {},
   "outputs": [],
   "source": [
    "print(string)\n",
    "print(\"string\")\n",
    "\n",
    "print(f\"my number is {number}\")\n",
    "print(\"my number is {\" + str(number) + \"}\")\n",
    "\n",
    "print(float(3))\n",
    "print(float(number))\n",
    "print(number2)"
   ]
  },
  {
   "cell_type": "markdown",
   "metadata": {},
   "source": [
    "### Inversez le contenu des variables 'string' et 'number' (en 1 ligne)"
   ]
  },
  {
   "cell_type": "code",
   "execution_count": null,
   "metadata": {},
   "outputs": [],
   "source": [
    "number, string = string, number #ceci est un commentaire une seule ligne\n",
    "print(string)\n",
    "print(number)\n",
    "\n",
    "\"\"\"\n",
    "Ceci est un commentaire multiligne\n",
    "Bonjour\n",
    "Au revoir\n",
    "\"\"\"\n",
    "\n",
    "10"
   ]
  },
  {
   "cell_type": "markdown",
   "metadata": {},
   "source": [
    "## b) Listes"
   ]
  },
  {
   "cell_type": "markdown",
   "metadata": {},
   "source": [
    "### Créez une liste A contenant les entiers suivants: 1, 3, 2, 7, 4, 10, 46"
   ]
  },
  {
   "cell_type": "code",
   "execution_count": null,
   "metadata": {},
   "outputs": [],
   "source": [
    "A = [1, 3, 2, 7, 4, 10, 46]\n",
    "print(A)"
   ]
  },
  {
   "cell_type": "markdown",
   "metadata": {},
   "source": [
    "### Affichez les 3 premiers éléments de la liste A - en une ligne de code"
   ]
  },
  {
   "cell_type": "code",
   "execution_count": null,
   "metadata": {},
   "outputs": [],
   "source": [
    "print(f\"{A[0]} {A[1]} {A[2]}\")\n",
    "print(A[0:3])\n",
    "\n",
    "Z = [\"toto\", 10]\n",
    "print(Z)"
   ]
  },
  {
   "cell_type": "markdown",
   "metadata": {},
   "source": [
    "### Créez une liste B qui contient seulement les 3e, 4e et 5e éléments de A . Votre ligne de code ne devrait contenir que 8 caractères (sans compter les espaces) - Vérifiez bien votre résultat!"
   ]
  },
  {
   "cell_type": "code",
   "execution_count": null,
   "metadata": {},
   "outputs": [],
   "source": [
    "B = A[3:6]\n",
    "print(B)"
   ]
  },
  {
   "cell_type": "markdown",
   "metadata": {},
   "source": [
    "### Concaténez les listes A et B pour former la liste C"
   ]
  },
  {
   "cell_type": "code",
   "execution_count": null,
   "metadata": {},
   "outputs": [],
   "source": [
    "C=A+B\n",
    "print(C)"
   ]
  },
  {
   "cell_type": "markdown",
   "metadata": {},
   "source": [
    "### A l'aide de la function zip associez les valeurs de A et B dans la variable D"
   ]
  },
  {
   "cell_type": "code",
   "execution_count": null,
   "metadata": {},
   "outputs": [],
   "source": [
    "D = zip(A,B)\n",
    "print(D)"
   ]
  },
  {
   "cell_type": "markdown",
   "metadata": {},
   "source": [
    "### Ajoutez le nombre 5 à la liste A"
   ]
  },
  {
   "cell_type": "code",
   "execution_count": null,
   "metadata": {},
   "outputs": [],
   "source": [
    "A = A + [5]\n",
    "print(A)"
   ]
  },
  {
   "cell_type": "markdown",
   "metadata": {},
   "source": [
    "### Ajoutez un élément nul à la liste C"
   ]
  },
  {
   "cell_type": "code",
   "execution_count": null,
   "metadata": {},
   "outputs": [],
   "source": [
    "C = C + [None]\n",
    "print(C)"
   ]
  },
  {
   "cell_type": "markdown",
   "metadata": {},
   "source": [
    "### Ecrivez une fonction appelée 'make_list_from_triplet' qui prend trois éléments a, b et c en input, et retourne en output une liste contenant a, b et c."
   ]
  },
  {
   "cell_type": "code",
   "execution_count": null,
   "metadata": {},
   "outputs": [],
   "source": [
    "def make_list_from_triplet(a, b, c):\n",
    "    return [a, b, c]\n",
    "\n",
    "print(make_list_from_triplet(\"bob\", 12, [\"lol\", None]))"
   ]
  },
  {
   "cell_type": "markdown",
   "metadata": {},
   "source": [
    "### Ecrivez une fonction qui prend un nombre en input, et renvoie 'vrai' si ce nombre est divisible par 3, et faux sinon."
   ]
  },
  {
   "cell_type": "code",
   "execution_count": null,
   "metadata": {},
   "outputs": [],
   "source": [
    "def is_divisible_by_3(x):\n",
    "    return x % 3 == 0\n",
    "\n",
    "print(is_divisible_by_3(0))\n",
    "print(is_divisible_by_3(1))\n",
    "print(is_divisible_by_3(2))\n",
    "print(is_divisible_by_3(3))\n",
    "print(is_divisible_by_3(4))\n",
    "print(is_divisible_by_3(5))\n",
    "print(is_divisible_by_3(6))"
   ]
  },
  {
   "cell_type": "markdown",
   "metadata": {},
   "source": [
    "### Ecrivez une fonction qui prend une liste de nombres en input, et renvoie 'vrai' si cette liste contient au moins nombre qui est divisible par 3, et faux sinon."
   ]
  },
  {
   "cell_type": "code",
   "execution_count": null,
   "metadata": {},
   "outputs": [],
   "source": [
    "def has_number_divisible_by_3(arr):\n",
    "    for i in range(len(arr)):\n",
    "        if is_divisible_by_3(arr[i]):\n",
    "            return True\n",
    "    return False\n",
    "\n",
    "print(has_number_divisible_by_3([1,2, 4, 5, 7, 8, 11]))\n",
    "print(has_number_divisible_by_3([1,2, 4, 5, 7, 8, 11, 6]))\n",
    "        "
   ]
  },
  {
   "cell_type": "markdown",
   "metadata": {},
   "source": [
    "### Ecrivez une fonction qui prend une liste de nombres en input, et renvoie 'vrai' si tous les nombres de cette liste sont divisibles par 3, et faux sinon."
   ]
  },
  {
   "cell_type": "code",
   "execution_count": null,
   "metadata": {},
   "outputs": [],
   "source": [
    "def has_every_number_divisible_by_3(arr):\n",
    "    for i in range(len(arr)):\n",
    "        if not is_divisible_by_3(arr[i]):\n",
    "            return False\n",
    "    return True\n",
    "\n",
    "print(has_every_number_divisible_by_3([3, 6, 12, 33, -3, 3]))\n",
    "print(has_every_number_divisible_by_3([3, 6, 12, 33, -3, 2]))"
   ]
  },
  {
   "cell_type": "markdown",
   "metadata": {},
   "source": [
    "### Ecrivez une fonction qui prend en input une liste de 3 nombres et écrit 'Youpi' sur votre terminal si la somme des deux premiers nombres est supérieure au troisième nombre, et que le troisième nombre est positif; écrit 'Presque!' si on a juste que le troisième nombre est positif; et 'Zut...' dans tous les autres cas."
   ]
  },
  {
   "cell_type": "code",
   "execution_count": null,
   "metadata": {},
   "outputs": [],
   "source": [
    "def last_is_smaller_and_positive(arr):\n",
    "    if len(arr) == 3:\n",
    "        if arr[0] + arr[1] > arr[2] and arr[2] >= 0:\n",
    "            print(\"Youpi\")\n",
    "        elif arr[2] >= 0:\n",
    "            print(\"Presque!\")\n",
    "        else:\n",
    "            print(\"Zut...\")\n",
    "    else:\n",
    "        print(\"Zut...\")\n",
    "\n",
    "last_is_smaller_and_positive([])\n",
    "last_is_smaller_and_positive([1, 2, -1])\n",
    "last_is_smaller_and_positive([1, 1, 3])\n",
    "last_is_smaller_and_positive([2, 2, 3])\n"
   ]
  },
  {
   "cell_type": "markdown",
   "metadata": {},
   "source": [
    "### Écrivez une fonction qui prend comme arguments une liste 'lst' et un entier 'n' et retourne le résultat de n concaténations de 'lst' avec elle-même (ex: lst=[1,2,3], n=2 --> [1,2,3,1,2,3])"
   ]
  },
  {
   "cell_type": "code",
   "execution_count": null,
   "metadata": {},
   "outputs": [],
   "source": [
    "def multiply_list(lst, n):\n",
    "    single_lst = lst\n",
    "    result = []\n",
    "    for i in range(n):\n",
    "        result = result + single_lst\n",
    "    return result\n",
    "\n",
    "print(multiply_list([\"bob\", \"patrick\", \"sandy\"], 5))"
   ]
  },
  {
   "cell_type": "markdown",
   "metadata": {},
   "source": [
    "### Vous voulez rendre le paramètre 'n' optionnel et fixer sa valeur à 2 par défaut. Comment faites-vous?"
   ]
  },
  {
   "cell_type": "code",
   "execution_count": null,
   "metadata": {},
   "outputs": [],
   "source": [
    "def multiply_list(lst, n = 2):\n",
    "    single_lst = lst\n",
    "    result = []\n",
    "    for i in range(n):\n",
    "        result = result + single_lst\n",
    "    return result\n",
    "\n",
    "print(multiply_list([\"bob\", \"patrick\", \"sandy\"]))\n",
    "print(multiply_list([\"bob\", \"patrick\", \"sandy\"], 5))"
   ]
  },
  {
   "cell_type": "markdown",
   "metadata": {},
   "source": [
    "### Avec une boucle 'while', imprimez chaque élément de la liste C jusqu'à l'élément nul"
   ]
  },
  {
   "cell_type": "code",
   "execution_count": null,
   "metadata": {},
   "outputs": [],
   "source": [
    "i = 0\n",
    "while C[i] != None:\n",
    "    print(C[i])\n",
    "    i = i + 1\n"
   ]
  },
  {
   "cell_type": "markdown",
   "metadata": {},
   "source": [
    "### Calculez, avec une boucle 'for', le nombre d'entiers pairs présents dans la liste A"
   ]
  },
  {
   "cell_type": "code",
   "execution_count": null,
   "metadata": {},
   "outputs": [],
   "source": [
    "even_int_amount = 0\n",
    "for i in range(len(A)):\n",
    "    if A[i] % 2 == 0:\n",
    "        even_int_amount += 1\n",
    "        \n",
    "print(A)\n",
    "print(even_int_amount)"
   ]
  },
  {
   "cell_type": "markdown",
   "metadata": {},
   "source": [
    "### Réécrivez l'expression suivante avec une boucle 'for' sur plusieurs lignes. Que fais cette expression ? Essayez de répondre d'abord juste en lisant le code, puis en le faisant tourner avec d'autres exemples que A."
   ]
  },
  {
   "cell_type": "code",
   "execution_count": null,
   "metadata": {},
   "outputs": [],
   "source": [
    "C = [element for element in A if element % 2 == 0]\n",
    "print(C)\n",
    "\n",
    "C = []\n",
    "for i in range(len(A)):\n",
    "    if A[i] % 2 == 0:\n",
    "        C += [A[i]]\n",
    "print(C)\n",
    "\n",
    "# cette expression filtre les éléments pairs (ie, divisibles par 2) de A"
   ]
  },
  {
   "cell_type": "markdown",
   "metadata": {},
   "source": [
    "### Creez une fonction qui prend un string en entrée et retourne la premiere lettre unique de ce string"
   ]
  },
  {
   "cell_type": "code",
   "execution_count": null,
   "metadata": {},
   "outputs": [],
   "source": [
    "def get_first_unique_char(s):\n",
    "    \n",
    "    def char_count_lst_contains_char(lst, char):\n",
    "        for (c, count) in lst:\n",
    "            if c == char:\n",
    "                return True\n",
    "        return False\n",
    "    \n",
    "    def char_count_lst_get_char_index(lst, char):\n",
    "        for i in range(len(lst)):\n",
    "            (c, count) = lst[i]\n",
    "            if c == char:\n",
    "                return i\n",
    "        return -1\n",
    "    \n",
    "    char_count_lst = []\n",
    "    for c in s:\n",
    "        if not char_count_lst_contains_char(char_count_lst, c):\n",
    "            char_count_lst += [(c, 1)]\n",
    "        else:\n",
    "            index = char_count_lst_get_char_index(char_count_lst, c)\n",
    "            (char, count) = char_count_lst[index]\n",
    "            char_count_lst[index] = (char, count + 1)\n",
    "    \n",
    "    for (char, count) in char_count_lst:\n",
    "        if count == 1:\n",
    "            return char\n",
    "    \n",
    "    return None\n",
    "        \n",
    "print(get_first_unique_char(\"bobo\"))\n",
    "print(get_first_unique_char(\"bob\"))\n",
    "print(get_first_unique_char(\"bilbo\"))"
   ]
  },
  {
   "cell_type": "markdown",
   "metadata": {},
   "source": [
    "## c) Dictionnaire"
   ]
  },
  {
   "cell_type": "markdown",
   "metadata": {},
   "source": [
    "### Creez un dictionnaire 'voiture' avec les clefs et les valeurs suivantes:\n",
    "| cle  | valeur |\n",
    "|---|---|\n",
    "| brand  | Ford  |\n",
    "| model  | Mustang |\n",
    "| year  | 1964 |"
   ]
  },
  {
   "cell_type": "code",
   "execution_count": null,
   "metadata": {},
   "outputs": [],
   "source": [
    "voiture = {\"brand\": \"Ford\", \"model\": \"Mustang\", \"year\": 1964}\n",
    "print(voiture)\n"
   ]
  },
  {
   "cell_type": "markdown",
   "metadata": {},
   "source": [
    "### Accédez à la valeur de \"year\""
   ]
  },
  {
   "cell_type": "code",
   "execution_count": null,
   "metadata": {},
   "outputs": [],
   "source": [
    "print(voiture[\"year\"])"
   ]
  },
  {
   "cell_type": "markdown",
   "metadata": {},
   "source": [
    "### Affichez à l'aide d'une boucle, l'ensemble des clefs du dictionnaires"
   ]
  },
  {
   "cell_type": "code",
   "execution_count": null,
   "metadata": {},
   "outputs": [],
   "source": [
    "for key in voiture.keys():\n",
    "    print(key)"
   ]
  },
  {
   "cell_type": "markdown",
   "metadata": {},
   "source": [
    "### Affichez à l'aide d'une boucle, l'ensemble des valeurs du dictionnaires"
   ]
  },
  {
   "cell_type": "code",
   "execution_count": null,
   "metadata": {},
   "outputs": [],
   "source": [
    "for value in voiture.values():\n",
    "    print(value)"
   ]
  },
  {
   "cell_type": "markdown",
   "metadata": {},
   "source": [
    "### Affichez, à l'aide d'une boucle, l'ensemble des items du dictionnaires. Affichez également l'indice de chaque itération de boucle (fonction enumerate)"
   ]
  },
  {
   "cell_type": "code",
   "execution_count": null,
   "metadata": {},
   "outputs": [],
   "source": [
    "for kvpair in voiture.items():\n",
    "    print(kvpair)"
   ]
  },
  {
   "cell_type": "markdown",
   "metadata": {},
   "source": [
    "### A l'aide d'une 'dictionary comprehension', créez un dictionnaire avec les cles et valeurs suivantes :\n",
    "| cle  | valeur |\n",
    "|---|---|\n",
    "| cle_1  | dictionnaire 'voiture' |\n",
    "| cle_2  | dictionnaire 'voiture' |\n",
    "| cle_3  | dictionnaire 'voiture' |\n",
    "\n",
    "#### exemple de dictionary comprehension :\n",
    "```my_dict = {'cle': 'valeur' for ('cle', 'valeur') in (list_1, list_2)}```"
   ]
  },
  {
   "cell_type": "code",
   "execution_count": null,
   "metadata": {},
   "outputs": [],
   "source": [
    "my_dict = {\"cle_\" + str(i): voiture for i in range(3)}\n",
    "print(my_dict)"
   ]
  },
  {
   "cell_type": "markdown",
   "metadata": {},
   "source": [
    "## d) Fonctions"
   ]
  },
  {
   "cell_type": "markdown",
   "metadata": {},
   "source": [
    "### Creez une fonction qui prend un nombre n et renvoie la n-ème valeur de la suite de Fibonacci (suite de Fibonacci: 0 1 1 2 3 5 8 13 ...)"
   ]
  },
  {
   "cell_type": "code",
   "execution_count": null,
   "metadata": {},
   "outputs": [],
   "source": [
    "def fibonacci(n):\n",
    "    if n <= 0:\n",
    "        return 0\n",
    "    if n == 1:\n",
    "        return 1\n",
    "    u_n_minus_1 = 0\n",
    "    u_n = 1\n",
    "    i = 1\n",
    "    while i < n:\n",
    "        u_n_plus_1 = u_n + u_n_minus_1\n",
    "        u_n_minus_1 = u_n\n",
    "        u_n = u_n_plus_1\n",
    "        i += 1\n",
    "    return u_n"
   ]
  },
  {
   "cell_type": "markdown",
   "metadata": {},
   "source": [
    "### Exécutez votre fonction (fibonacci(100) doit être exécutée en moins de 1 seconde)"
   ]
  },
  {
   "cell_type": "code",
   "execution_count": null,
   "metadata": {},
   "outputs": [],
   "source": [
    "print(fibonacci(0))\n",
    "print(fibonacci(1))\n",
    "print(fibonacci(2))\n",
    "print(fibonacci(3))\n",
    "print(fibonacci(4))\n",
    "print(fibonacci(5))\n",
    "print(fibonacci(6))\n",
    "print(fibonacci(7))\n",
    "print(fibonacci(8))\n",
    "print(fibonacci(9))\n",
    "print(fibonacci(100))"
   ]
  },
  {
   "cell_type": "code",
   "execution_count": null,
   "metadata": {},
   "outputs": [],
   "source": []
  }
 ],
 "metadata": {
  "kernelspec": {
   "display_name": "Python 3 (ipykernel)",
   "language": "python",
   "name": "python3"
  },
  "language_info": {
   "codemirror_mode": {
    "name": "ipython",
    "version": 3
   },
   "file_extension": ".py",
   "mimetype": "text/x-python",
   "name": "python",
   "nbconvert_exporter": "python",
   "pygments_lexer": "ipython3",
   "version": "3.10.12"
  }
 },
 "nbformat": 4,
 "nbformat_minor": 2
}
