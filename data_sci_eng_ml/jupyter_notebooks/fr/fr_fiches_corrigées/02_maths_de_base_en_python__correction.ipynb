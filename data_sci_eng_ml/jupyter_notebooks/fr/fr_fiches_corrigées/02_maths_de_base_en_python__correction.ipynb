{
 "cells": [
  {
   "cell_type": "markdown",
   "metadata": {},
   "source": [
    "## Description du notebook\n",
    "\n",
    "Dans ce notebook, on va travailler l'algèbre linéaire et les fonctions en Python. Pour commencer, écrivez une fonction `add` qui prend en argument deux nombres variables, `x` et `y`, et retourne le résultat de leur addition. Puis appelez cette fonction, et vérifiez que son résultat est bon avec un petit exemple de votre choix. (NB: par la suite, prenez l'habitude de tester que vos fonctions font bien ce que vous attendez d'elles !)"
   ]
  },
  {
   "cell_type": "code",
   "execution_count": null,
   "metadata": {},
   "outputs": [],
   "source": [
    "def add(x, y):\n",
    "    return x + y\n",
    "\n",
    "a = 5\n",
    "b = 3\n",
    "print(f\"{a} + {b} = {add(a, b)}\")"
   ]
  },
  {
   "cell_type": "markdown",
   "metadata": {},
   "source": [
    "Maintenant, écrivez une fonction `pack3` qui prend en argument trois nombres et les insère dans un vecteur (sous forme d'un array de longueur 3)"
   ]
  },
  {
   "cell_type": "code",
   "execution_count": null,
   "metadata": {},
   "outputs": [],
   "source": [
    "def pack3(nb1, nb2, nb3):\n",
    "    return [nb1, nb2, nb3]\n",
    "\n",
    "a = 3\n",
    "b = 72\n",
    "c = 6.28\n",
    "print(pack3(a,b,c))\n"
   ]
  },
  {
   "cell_type": "markdown",
   "metadata": {},
   "source": [
    "Ecrivez une fonction `sum3` qui prend en input un array de longueur 3 et renvoie la somme de ses coordonnées "
   ]
  },
  {
   "cell_type": "code",
   "execution_count": null,
   "metadata": {},
   "outputs": [],
   "source": [
    "def sum3(arr):\n",
    "    return arr[0] + arr[1] + arr[2]\n",
    "\n",
    "a = 5\n",
    "b = 10\n",
    "c = 12\n",
    "print(sum3(pack3(a,b,c)))\n",
    "#print(sum3([1,2,3,4]))"
   ]
  },
  {
   "cell_type": "markdown",
   "metadata": {},
   "source": [
    "Ecrivez une fonction `add3` qui fait une addition vectorielle de deux vecteurs 3d. Elle prend en input deux arrays de longueur 3, et renvoie un array de longueur 3 dont chaque coordonnée est la somme des coordonnées respectives des deux arrays d'input. (Notez que vous pouvez, ou non, réemployer une des fonctions définies plus tôt.)"
   ]
  },
  {
   "cell_type": "code",
   "execution_count": null,
   "metadata": {},
   "outputs": [],
   "source": [
    "def add3(u, v):\n",
    "    return [u[0] + v[0], u[1] + v[1], u[2] + v[2]]\n",
    "\n",
    "u = pack3(1,2,3)\n",
    "v = pack3(10,20,30)\n",
    "print(add3(u,v))\n",
    "#ne pas confondre addition vectorielle et concaténation de listes\n",
    "print(u + v)"
   ]
  },
  {
   "cell_type": "markdown",
   "metadata": {},
   "source": [
    "Ecrivez une fonction `scale3` qui prend en input un nombre (un scalaire) et un array de longueur 3 (un vecteur 3d), et renvoie un array de longueur 3 dont chaque coordonnée est la multiplication de coordonnée de l'array par le scalaire."
   ]
  },
  {
   "cell_type": "code",
   "execution_count": null,
   "metadata": {},
   "outputs": [],
   "source": [
    "def scale3(scalar, vector):\n",
    "    #if not isinstance(scalar, float): #if not isinstance(scalar, int) and not isinstance(scalar, float):\n",
    "    #    return []   #raise Exception(\"Scalar is not a valid numerical type\")\n",
    "    return [scalar * vector[0], scalar * vector[1], scalar * vector[2]]\n",
    "\n",
    "print(scale3(4.0, [1,2,3]))"
   ]
  },
  {
   "cell_type": "markdown",
   "metadata": {},
   "source": [
    "Ecrivez une fonction `sub3` qui prend en input deux arrays de longueur 3 et renvoie la soustraction du premier par le deuxième. Essayez de l'écrire en appelant les 2 fonctions précédentes (même si c'est simple de faire sans)."
   ]
  },
  {
   "cell_type": "code",
   "execution_count": null,
   "metadata": {},
   "outputs": [],
   "source": [
    "def sub3(u,v):\n",
    "    return [u[0] - v[0], u[1] - v[1], u[2] - v[2]]\n",
    "\n",
    "def sub3_bis(u,v):\n",
    "    return add3(u, scale3(-1, v))\n",
    "\n",
    "print(sub3(u,v))\n",
    "print(sub3_bis(u,v))"
   ]
  },
  {
   "cell_type": "markdown",
   "metadata": {},
   "source": [
    "Ecrivez une fonction `schur3` qui prend en input deux arrays de longueur 3, et renvoie un array de longueur 3 dont chaque coordonnée est le produit, cette fois-ci, des coordonnées respectives des deux arrays d'input. "
   ]
  },
  {
   "cell_type": "code",
   "execution_count": null,
   "metadata": {},
   "outputs": [],
   "source": [
    "def schur3(u,v):\n",
    "    return [u[0] * v[0], u[1] * v[1], u[2] * v[2]]\n",
    "\n",
    "print(schur3([1, 2, 3], [10, 20, 30]))"
   ]
  },
  {
   "cell_type": "markdown",
   "metadata": {},
   "source": [
    "Ecrivez une fonction `dot3` qui prend en input deux arrays de longueur 3, et renvoie un nombre qui est le résultat du produit scalaire des deux arrays d'input. Vous êtes encouragés à réutiliser (appeler) 2 des fonctions codées précédemment."
   ]
  },
  {
   "cell_type": "code",
   "execution_count": null,
   "metadata": {},
   "outputs": [],
   "source": [
    "def dot3(u, v):\n",
    "    return u[0] * v[0] + u[1] * v[1] + u[2] * v[2]\n",
    "\n",
    "def dot3_bis(u, v):\n",
    "    return sum3(schur3(u, v))\n",
    "\n",
    "print(dot3(u,v))\n",
    "print(dot3_bis(u,v))\n",
    "\n",
    "\n",
    "# Rappel: le produit scalaire vaut aussi norm(u) * norm(v) * cos(u,v).\n",
    "# Même s'il est souvent très inefficace de le calculer ainsi, ce fait\n",
    "# nous permet de savoir que la produit scalaire de deux vecteurs de norme 1\n",
    "# vaut cos(u,v); tandis que le produit scalaire de deux vecteurs colinéaires\n",
    "# (faisant donc un angle nul) vaut norm(u) * norm(v)\n",
    "\n"
   ]
  },
  {
   "cell_type": "markdown",
   "metadata": {},
   "source": [
    "Ecrivez une fonction `quadnorm3` qui prend en input un array de longueur 3 et renvoie sa norme quadratique (sa norme au carré). Vous êtes encouragés à réutiliser (appeler) une fonction codée précédemment."
   ]
  },
  {
   "cell_type": "code",
   "execution_count": null,
   "metadata": {},
   "outputs": [],
   "source": [
    "def quadnorm3(u):\n",
    "    return u[0] * u[0] + u[1] * u[1] + u[2] * u[2]\n",
    "\n",
    "def quadnorm3_bis(u):\n",
    "    return dot3(u, u)\n",
    "\n",
    "print(quadnorm3(u))\n",
    "print(quadnorm3_bis(u))"
   ]
  },
  {
   "cell_type": "markdown",
   "metadata": {},
   "source": [
    "Ecrivez une fonction `norm3` qui prend en input un array de longueur 3 et renvoie sa norme. Vous êtes encouragés à réutiliser (appeler) une fonction codée précédemment."
   ]
  },
  {
   "cell_type": "code",
   "execution_count": null,
   "metadata": {},
   "outputs": [],
   "source": [
    "from math import sqrt\n",
    "\n",
    "def norm3(u):\n",
    "    return sqrt(u[0] * u[0] + u[1] * u[1] + u[2] * u[2])\n",
    "\n",
    "def norm3_bis(u):\n",
    "    return sqrt(quadnorm3(u))\n",
    "\n",
    "print(norm3(u))\n",
    "print(norm3_bis(u))"
   ]
  },
  {
   "cell_type": "markdown",
   "metadata": {},
   "source": [
    "Ecrivez une fonction `cos3` qui prend en input deux arrays de longueur 3 et renvoie le cosinus de l'angle formé par ces 2 vecteurs. Vous êtes encouragés à réutiliser (appeler) 2 fonctions codées précédemment."
   ]
  },
  {
   "cell_type": "code",
   "execution_count": null,
   "metadata": {},
   "outputs": [],
   "source": [
    "def cos3(u, v):\n",
    "    return dot3(u,v) / (norm3(u) * norm3(v))\n",
    "\n",
    "print(cos3(u,v))\n",
    "\n",
    "#Remarque: pour u = [1, 2, 3] et v = [10, 20, 30], on a u = 10v,\n",
    "# donc les deux vecteurs sont colinéaires, donc leur angle est nul,\n",
    "# donc leur cosinus est égal à 1, et dot3(u,v) est égal à norm3(u) * norm3(v)"
   ]
  },
  {
   "cell_type": "markdown",
   "metadata": {},
   "source": [
    "Ecrivez une fonction `avg3` qui prend en input deux arrays de longueur 3 et renvoie le vecteur qui est la moyenne de ces 2 vecteurs. Vous êtes encouragés à réutiliser (appeler) 2 fonctions codées précédemment."
   ]
  },
  {
   "cell_type": "code",
   "execution_count": null,
   "metadata": {},
   "outputs": [],
   "source": [
    "def avg3(u, v):\n",
    "    return [(u[0] + v[0]) / 2, (u[1] + v[1]) / 2, (u[2] + v[2]) / 2]\n",
    "\n",
    "def avg3_bis(u,v):\n",
    "    return scale3(0.5, add3(u, v))\n",
    "\n",
    "print(avg3(u,v))\n",
    "print(avg3_bis(u,v))\n",
    "\n",
    "# En informatique, les multiplications sont généralement plus rapide \n",
    "# que les divisions; il vaut donc mieux opter pour un *0.5 qu'un /2, etc."
   ]
  },
  {
   "cell_type": "markdown",
   "metadata": {},
   "source": [
    "SECTION BONUS:\n",
    "- faire les versions \"array de taille n\" de toutes les fonctions précédentes, utilisant des 'if' (par exemple pour vérifier que les tailles des inputs sont compatibles) et des 'for' (pour répéter n fois une opération) ce faisant\n",
    "- pour les fonctions précédentes adaptées (add3, schur3, avg3), coder une version qui calcule le bon résultat, mais avec un nombre arbitraire d'arguments (pas juste 2 inputs)\n",
    "- créez une classe (au sens de la programmation orientée objet) nommée \"Vector\" reprenant les fonctions précédentes et implémentant un objet qui représente un vecteur en 3 dimensions (vous pouvez d'ailleurs utiliser les \"magic methods\" un aspect sympathique des classes en Python)\n",
    "- combiner les 3 boni précédents en 1."
   ]
  },
  {
   "cell_type": "code",
   "execution_count": null,
   "metadata": {},
   "outputs": [],
   "source": [
    "# Je ne mets pas de réponse ici, mais ceux qui tenteront\n",
    "# peuvent m'envoyer un email pour que je jette un oeil à\n",
    "# leur code."
   ]
  }
 ],
 "metadata": {
  "kernelspec": {
   "display_name": "Python 3 (ipykernel)",
   "language": "python",
   "name": "python3"
  },
  "language_info": {
   "codemirror_mode": {
    "name": "ipython",
    "version": 3
   },
   "file_extension": ".py",
   "mimetype": "text/x-python",
   "name": "python",
   "nbconvert_exporter": "python",
   "pygments_lexer": "ipython3",
   "version": "3.10.12"
  }
 },
 "nbformat": 4,
 "nbformat_minor": 4
}
